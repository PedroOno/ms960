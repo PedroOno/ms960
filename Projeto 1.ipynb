{
 "cells": [
  {
   "cell_type": "code",
   "execution_count": 339,
   "metadata": {},
   "outputs": [],
   "source": [
    "import pandas as pd\n",
    "import numpy as np\n",
    "import matplotlib.pyplot as plt"
   ]
  },
  {
   "cell_type": "code",
   "execution_count": 340,
   "metadata": {},
   "outputs": [],
   "source": [
    "df = pd.read_csv(\"casesBrazil.csv\")"
   ]
  },
  {
   "cell_type": "code",
   "execution_count": 341,
   "metadata": {},
   "outputs": [
    {
     "data": {
      "text/html": [
       "<div>\n",
       "<style scoped>\n",
       "    .dataframe tbody tr th:only-of-type {\n",
       "        vertical-align: middle;\n",
       "    }\n",
       "\n",
       "    .dataframe tbody tr th {\n",
       "        vertical-align: top;\n",
       "    }\n",
       "\n",
       "    .dataframe thead th {\n",
       "        text-align: right;\n",
       "    }\n",
       "</style>\n",
       "<table border=\"1\" class=\"dataframe\">\n",
       "  <thead>\n",
       "    <tr style=\"text-align: right;\">\n",
       "      <th></th>\n",
       "      <th>day</th>\n",
       "      <th>cases</th>\n",
       "    </tr>\n",
       "  </thead>\n",
       "  <tbody>\n",
       "    <tr>\n",
       "      <th>0</th>\n",
       "      <td>1</td>\n",
       "      <td>1</td>\n",
       "    </tr>\n",
       "    <tr>\n",
       "      <th>1</th>\n",
       "      <td>2</td>\n",
       "      <td>1</td>\n",
       "    </tr>\n",
       "    <tr>\n",
       "      <th>2</th>\n",
       "      <td>3</td>\n",
       "      <td>1</td>\n",
       "    </tr>\n",
       "    <tr>\n",
       "      <th>3</th>\n",
       "      <td>4</td>\n",
       "      <td>2</td>\n",
       "    </tr>\n",
       "    <tr>\n",
       "      <th>4</th>\n",
       "      <td>5</td>\n",
       "      <td>2</td>\n",
       "    </tr>\n",
       "    <tr>\n",
       "      <th>...</th>\n",
       "      <td>...</td>\n",
       "      <td>...</td>\n",
       "    </tr>\n",
       "    <tr>\n",
       "      <th>129</th>\n",
       "      <td>130</td>\n",
       "      <td>1546935</td>\n",
       "    </tr>\n",
       "    <tr>\n",
       "      <th>130</th>\n",
       "      <td>131</td>\n",
       "      <td>1580502</td>\n",
       "    </tr>\n",
       "    <tr>\n",
       "      <th>131</th>\n",
       "      <td>132</td>\n",
       "      <td>1605694</td>\n",
       "    </tr>\n",
       "    <tr>\n",
       "      <th>132</th>\n",
       "      <td>133</td>\n",
       "      <td>1630061</td>\n",
       "    </tr>\n",
       "    <tr>\n",
       "      <th>133</th>\n",
       "      <td>134</td>\n",
       "      <td>1675264</td>\n",
       "    </tr>\n",
       "  </tbody>\n",
       "</table>\n",
       "<p>134 rows × 2 columns</p>\n",
       "</div>"
      ],
      "text/plain": [
       "     day    cases\n",
       "0      1        1\n",
       "1      2        1\n",
       "2      3        1\n",
       "3      4        2\n",
       "4      5        2\n",
       "..   ...      ...\n",
       "129  130  1546935\n",
       "130  131  1580502\n",
       "131  132  1605694\n",
       "132  133  1630061\n",
       "133  134  1675264\n",
       "\n",
       "[134 rows x 2 columns]"
      ]
     },
     "execution_count": 341,
     "metadata": {},
     "output_type": "execute_result"
    }
   ],
   "source": [
    "df"
   ]
  },
  {
   "cell_type": "code",
   "execution_count": 342,
   "metadata": {},
   "outputs": [
    {
     "data": {
      "image/png": "[encoded data removed]",
      "text/plain": [
       "<Figure size 432x288 with 1 Axes>"
      ]
     },
     "metadata": {
      "needs_background": "light"
     },
     "output_type": "display_data"
    }
   ],
   "source": [
    "plt.plot(df['day'], df['cases'])\n",
    "plt.show()"
   ]
  },
  {
   "cell_type": "markdown",
   "metadata": {},
   "source": [
    "$ h(0) = \\theta_0  +  \\theta_1 x^1 ... \\theta_3 x^3 $"
   ]
  },
  {
   "cell_type": "code",
   "execution_count": 343,
   "metadata": {},
   "outputs": [],
   "source": [
    "# transformar dataset\n",
    "#df[\"ones\"] = np.ones(df.shape[0])"
   ]
  },
  {
   "cell_type": "code",
   "execution_count": 345,
   "metadata": {},
   "outputs": [],
   "source": [
    "#normalizations\n",
    "\n",
    "# plt.hist(df[\"day\"], bins = 10)\n",
    "# plt.show()\n",
    "\n",
    "df_norm = pd.DataFrame(df[\"day\"].apply(lambda x: (x - min(df[\"day\"])) / (max(df[\"day\"])-min(df[\"day\"]))))\n",
    "df_padr = pd.DataFrame(df[\"day\"].apply(lambda x: (x - df[\"day\"].mean())/(np.std(df[\"day\"])) ))"
   ]
  },
  {
   "cell_type": "code",
   "execution_count": 346,
   "metadata": {},
   "outputs": [
    {
     "data": {
      "text/html": [
       "<div>\n",
       "<style scoped>\n",
       "    .dataframe tbody tr th:only-of-type {\n",
       "        vertical-align: middle;\n",
       "    }\n",
       "\n",
       "    .dataframe tbody tr th {\n",
       "        vertical-align: top;\n",
       "    }\n",
       "\n",
       "    .dataframe thead th {\n",
       "        text-align: right;\n",
       "    }\n",
       "</style>\n",
       "<table border=\"1\" class=\"dataframe\">\n",
       "  <thead>\n",
       "    <tr style=\"text-align: right;\">\n",
       "      <th></th>\n",
       "      <th>day</th>\n",
       "    </tr>\n",
       "  </thead>\n",
       "  <tbody>\n",
       "    <tr>\n",
       "      <th>0</th>\n",
       "      <td>0.000000</td>\n",
       "    </tr>\n",
       "    <tr>\n",
       "      <th>1</th>\n",
       "      <td>0.007519</td>\n",
       "    </tr>\n",
       "    <tr>\n",
       "      <th>2</th>\n",
       "      <td>0.015038</td>\n",
       "    </tr>\n",
       "    <tr>\n",
       "      <th>3</th>\n",
       "      <td>0.022556</td>\n",
       "    </tr>\n",
       "    <tr>\n",
       "      <th>4</th>\n",
       "      <td>0.030075</td>\n",
       "    </tr>\n",
       "  </tbody>\n",
       "</table>\n",
       "</div>"
      ],
      "text/plain": [
       "        day\n",
       "0  0.000000\n",
       "1  0.007519\n",
       "2  0.015038\n",
       "3  0.022556\n",
       "4  0.030075"
      ]
     },
     "execution_count": 346,
     "metadata": {},
     "output_type": "execute_result"
    }
   ],
   "source": [
    "df_norm.head()"
   ]
  },
  {
   "cell_type": "code",
   "execution_count": 347,
   "metadata": {},
   "outputs": [],
   "source": [
    "for i in range(2,11):\n",
    "    norm_name = \"norm_x\" + str(i)\n",
    "    padr_name = \"padr_x\" + str(i)\n",
    "    df_norm[norm_name] = df_norm[\"day\"]**i\n",
    "    df_padr[padr_name] = df_padr[\"day\"]**i"
   ]
  },
  {
   "cell_type": "code",
   "execution_count": 348,
   "metadata": {},
   "outputs": [
    {
     "data": {
      "text/html": [
       "<div>\n",
       "<style scoped>\n",
       "    .dataframe tbody tr th:only-of-type {\n",
       "        vertical-align: middle;\n",
       "    }\n",
       "\n",
       "    .dataframe tbody tr th {\n",
       "        vertical-align: top;\n",
       "    }\n",
       "\n",
       "    .dataframe thead th {\n",
       "        text-align: right;\n",
       "    }\n",
       "</style>\n",
       "<table border=\"1\" class=\"dataframe\">\n",
       "  <thead>\n",
       "    <tr style=\"text-align: right;\">\n",
       "      <th></th>\n",
       "      <th>day</th>\n",
       "      <th>padr_x2</th>\n",
       "      <th>padr_x3</th>\n",
       "      <th>padr_x4</th>\n",
       "      <th>padr_x5</th>\n",
       "      <th>padr_x6</th>\n",
       "      <th>padr_x7</th>\n",
       "      <th>padr_x8</th>\n",
       "      <th>padr_x9</th>\n",
       "      <th>padr_x10</th>\n",
       "    </tr>\n",
       "  </thead>\n",
       "  <tbody>\n",
       "    <tr>\n",
       "      <th>0</th>\n",
       "      <td>-1.719173</td>\n",
       "      <td>2.955556</td>\n",
       "      <td>-5.081111</td>\n",
       "      <td>8.735309</td>\n",
       "      <td>-15.017506</td>\n",
       "      <td>25.817690</td>\n",
       "      <td>-44.385074</td>\n",
       "      <td>76.305617</td>\n",
       "      <td>-131.182551</td>\n",
       "      <td>225.525490</td>\n",
       "    </tr>\n",
       "    <tr>\n",
       "      <th>1</th>\n",
       "      <td>-1.693321</td>\n",
       "      <td>2.867335</td>\n",
       "      <td>-4.855318</td>\n",
       "      <td>8.221610</td>\n",
       "      <td>-13.921822</td>\n",
       "      <td>23.574110</td>\n",
       "      <td>-39.918529</td>\n",
       "      <td>67.594871</td>\n",
       "      <td>-114.459795</td>\n",
       "      <td>193.817141</td>\n",
       "    </tr>\n",
       "    <tr>\n",
       "      <th>2</th>\n",
       "      <td>-1.667468</td>\n",
       "      <td>2.780451</td>\n",
       "      <td>-4.636315</td>\n",
       "      <td>7.730908</td>\n",
       "      <td>-12.891046</td>\n",
       "      <td>21.495413</td>\n",
       "      <td>-35.842924</td>\n",
       "      <td>59.766946</td>\n",
       "      <td>-99.659498</td>\n",
       "      <td>166.179072</td>\n",
       "    </tr>\n",
       "    <tr>\n",
       "      <th>3</th>\n",
       "      <td>-1.641616</td>\n",
       "      <td>2.694904</td>\n",
       "      <td>-4.423998</td>\n",
       "      <td>7.262507</td>\n",
       "      <td>-11.922250</td>\n",
       "      <td>19.571759</td>\n",
       "      <td>-32.129318</td>\n",
       "      <td>52.744010</td>\n",
       "      <td>-86.585425</td>\n",
       "      <td>142.140041</td>\n",
       "    </tr>\n",
       "    <tr>\n",
       "      <th>4</th>\n",
       "      <td>-1.615764</td>\n",
       "      <td>2.610693</td>\n",
       "      <td>-4.218264</td>\n",
       "      <td>6.815720</td>\n",
       "      <td>-11.012595</td>\n",
       "      <td>17.793755</td>\n",
       "      <td>-28.750510</td>\n",
       "      <td>46.454040</td>\n",
       "      <td>-75.058766</td>\n",
       "      <td>121.277254</td>\n",
       "    </tr>\n",
       "  </tbody>\n",
       "</table>\n",
       "</div>"
      ],
      "text/plain": [
       "        day   padr_x2   padr_x3   padr_x4    padr_x5    padr_x6    padr_x7  \\\n",
       "0 -1.719173  2.955556 -5.081111  8.735309 -15.017506  25.817690 -44.385074   \n",
       "1 -1.693321  2.867335 -4.855318  8.221610 -13.921822  23.574110 -39.918529   \n",
       "2 -1.667468  2.780451 -4.636315  7.730908 -12.891046  21.495413 -35.842924   \n",
       "3 -1.641616  2.694904 -4.423998  7.262507 -11.922250  19.571759 -32.129318   \n",
       "4 -1.615764  2.610693 -4.218264  6.815720 -11.012595  17.793755 -28.750510   \n",
       "\n",
       "     padr_x8     padr_x9    padr_x10  \n",
       "0  76.305617 -131.182551  225.525490  \n",
       "1  67.594871 -114.459795  193.817141  \n",
       "2  59.766946  -99.659498  166.179072  \n",
       "3  52.744010  -86.585425  142.140041  \n",
       "4  46.454040  -75.058766  121.277254  "
      ]
     },
     "execution_count": 348,
     "metadata": {},
     "output_type": "execute_result"
    }
   ],
   "source": [
    "df_padr.head()"
   ]
  },
  {
   "cell_type": "code",
   "execution_count": 349,
   "metadata": {},
   "outputs": [],
   "source": [
    "def costFunction(X, y, theta):\n",
    "    h = X.dot(theta)\n",
    "    m = X.shape[0]\n",
    "    J = 1/(2*m) * (np.sum((h-y)**2))\n",
    "    return J"
   ]
  },
  {
   "cell_type": "code",
   "execution_count": 350,
   "metadata": {},
   "outputs": [],
   "source": [
    "def gradientDescent(X, y, theta, alpha, num_iter):\n",
    "    m = X.shape[0]\n",
    "    cost_array = []\n",
    "    for i in range(num_iter):\n",
    "        cost_array.append(costFunction(X,y,theta))\n",
    "        h = X.dot(theta) - y\n",
    "        theta = theta - ((alpha/m) * X.T.dot(h))\n",
    "    return theta, cost_array"
   ]
  },
  {
   "cell_type": "code",
   "execution_count": 351,
   "metadata": {},
   "outputs": [
    {
     "name": "stdout",
     "output_type": "stream",
     "text": [
      "[-1.5 -3.5]\n"
     ]
    }
   ],
   "source": [
    "x = np.array([[1,3],[2,4]], dtype=float)\n",
    "y = np.array([5,6],dtype=float)\n",
    "theta = np.array([1,2],dtype=float)\n",
    "alpha = 0.5\n",
    "\n",
    "y.reshape(len(y),1)\n",
    "theta.reshape(len(theta),1)\n",
    "\n",
    "new_theta,cost_array = gradientDescent(x,y,theta,alpha,1)\n",
    "\n",
    "print(new_theta)"
   ]
  },
  {
   "cell_type": "code",
   "execution_count": 352,
   "metadata": {},
   "outputs": [],
   "source": [
    "m,n = df_norm.shape\n",
    "X_norm = np.array(())\n",
    "X_norm = np.append(np.ones((m,1)),df_norm.values.reshape(m,n),axis = 1)\n",
    "X_padr = np.array(())\n",
    "X_padr = np.append(np.ones((m,1)),df_padr.values.reshape(m,n),axis = 1)\n",
    "y = df[\"cases\"].values.reshape(m,1)"
   ]
  },
  {
   "cell_type": "code",
   "execution_count": 353,
   "metadata": {},
   "outputs": [],
   "source": [
    "theta_init = np.ones((X_norm.shape[1], 1))\n",
    "alpha = 1\n",
    "num_iter = 2000\n",
    "theta_norm,cost_norm = gradientDescent(X_norm, y, theta_init, alpha, num_iter)"
   ]
  },
  {
   "cell_type": "code",
   "execution_count": 354,
   "metadata": {},
   "outputs": [
    {
     "data": {
      "text/plain": [
       "[<matplotlib.lines.Line2D at 0x7fe1b8d78b80>]"
      ]
     },
     "execution_count": 354,
     "metadata": {},
     "output_type": "execute_result"
    },
    {
     "data": {
      "image/png": "[encoded data removed]",
      "text/plain": [
       "<Figure size 432x288 with 1 Axes>"
      ]
     },
     "metadata": {
      "needs_background": "light"
     },
     "output_type": "display_data"
    }
   ],
   "source": [
    "plt.plot(cost_norm[1000:])"
   ]
  },
  {
   "cell_type": "code",
   "execution_count": 356,
   "metadata": {},
   "outputs": [],
   "source": [
    "predict = X_norm.dot(theta_norm)"
   ]
  },
  {
   "cell_type": "code",
   "execution_count": 358,
   "metadata": {},
   "outputs": [
    {
     "data": {
      "image/png": "[encoded data removed]",
      "text/plain": [
       "<Figure size 432x288 with 1 Axes>"
      ]
     },
     "metadata": {
      "needs_background": "light"
     },
     "output_type": "display_data"
    }
   ],
   "source": [
    "plt.scatter(df_norm[\"day\"], df[\"cases\"])\n",
    "plt.scatter(df_norm[\"day\"], predict)\n",
    "plt.show()"
   ]
  },
  {
   "cell_type": "code",
   "execution_count": null,
   "metadata": {},
   "outputs": [],
   "source": []
  },
  {
   "cell_type": "code",
   "execution_count": null,
   "metadata": {},
   "outputs": [],
   "source": []
  },
  {
   "cell_type": "code",
   "execution_count": null,
   "metadata": {},
   "outputs": [],
   "source": []
  },
  {
   "cell_type": "code",
   "execution_count": 404,
   "metadata": {},
   "outputs": [
    {
     "name": "stdout",
     "output_type": "stream",
     "text": [
      "[-1.5 -3.5]\n"
     ]
    }
   ],
   "source": [
    "a = (theta.dot(x[0]) - y[0]) * x[0][0]\n",
    "b = (theta.dot(x[1]) - y[1]) * x[1][0]\n",
    "c = (theta.dot(x[0]) - y[0]) * x[0][1]\n",
    "d = (theta.dot(x[1]) - y[1]) * x[1][1]\n",
    "theta[0] = theta[0] - (0.5/2) * (a+b)\n",
    "theta[1] = theta[1] - (0.5/2) * (c+d)\n",
    "\n",
    "print(theta)"
   ]
  },
  {
   "cell_type": "code",
   "execution_count": 405,
   "metadata": {},
   "outputs": [
    {
     "data": {
      "text/plain": [
       "array([1., 3.])"
      ]
     },
     "execution_count": 405,
     "metadata": {},
     "output_type": "execute_result"
    }
   ],
   "source": [
    "x[0]"
   ]
  },
  {
   "cell_type": "code",
   "execution_count": 406,
   "metadata": {},
   "outputs": [
    {
     "data": {
      "text/plain": [
       "array([ -8.5, -18.5])"
      ]
     },
     "execution_count": 406,
     "metadata": {},
     "output_type": "execute_result"
    }
   ],
   "source": [
    "theta.dot(x)"
   ]
  },
  {
   "cell_type": "code",
   "execution_count": 407,
   "metadata": {},
   "outputs": [
    {
     "data": {
      "text/plain": [
       "array([-12., -17.])"
      ]
     },
     "execution_count": 407,
     "metadata": {},
     "output_type": "execute_result"
    }
   ],
   "source": [
    "x.dot(theta)"
   ]
  },
  {
   "cell_type": "code",
   "execution_count": 408,
   "metadata": {},
   "outputs": [
    {
     "data": {
      "text/plain": [
       "-12.0"
      ]
     },
     "execution_count": 408,
     "metadata": {},
     "output_type": "execute_result"
    }
   ],
   "source": [
    "np.dot(x[0],theta)"
   ]
  },
  {
   "cell_type": "code",
   "execution_count": null,
   "metadata": {},
   "outputs": [],
   "source": []
  },
  {
   "cell_type": "code",
   "execution_count": 409,
   "metadata": {},
   "outputs": [
    {
     "data": {
      "text/plain": [
       "array([-12., -17.])"
      ]
     },
     "execution_count": 409,
     "metadata": {},
     "output_type": "execute_result"
    }
   ],
   "source": [
    "np.dot(x,new_theta)"
   ]
  },
  {
   "cell_type": "code",
   "execution_count": 410,
   "metadata": {},
   "outputs": [
    {
     "ename": "NameError",
     "evalue": "name 'm' is not defined",
     "output_type": "error",
     "traceback": [
      "\u001b[0;31m-----------------------------------------------------------------------\u001b[0m",
      "\u001b[0;31mNameError\u001b[0m                             Traceback (most recent call last)",
      "\u001b[0;32m<ipython-input-410-4245f6aae81b>\u001b[0m in \u001b[0;36m<module>\u001b[0;34m\u001b[0m\n\u001b[0;32m----> 1\u001b[0;31m \u001b[0mtheta\u001b[0m \u001b[0;34m=\u001b[0m \u001b[0mtheta\u001b[0m \u001b[0;34m-\u001b[0m \u001b[0;34m(\u001b[0m\u001b[0;34m(\u001b[0m\u001b[0malpha\u001b[0m\u001b[0;34m/\u001b[0m\u001b[0mm\u001b[0m\u001b[0;34m)\u001b[0m \u001b[0;34m*\u001b[0m \u001b[0mX\u001b[0m\u001b[0;34m.\u001b[0m\u001b[0mT\u001b[0m\u001b[0;34m.\u001b[0m\u001b[0mdot\u001b[0m\u001b[0;34m(\u001b[0m\u001b[0mpred\u001b[0m \u001b[0;34m-\u001b[0m \u001b[0my\u001b[0m\u001b[0;34m)\u001b[0m\u001b[0;34m)\u001b[0m\u001b[0;34m\u001b[0m\u001b[0;34m\u001b[0m\u001b[0m\n\u001b[0m",
      "\u001b[0;31mNameError\u001b[0m: name 'm' is not defined"
     ]
    }
   ],
   "source": [
    "theta = theta - ((alpha/m) * X.T.dot(pred - y))"
   ]
  },
  {
   "cell_type": "code",
   "execution_count": null,
   "metadata": {},
   "outputs": [],
   "source": [
    "new_theta.dot(x)"
   ]
  },
  {
   "cell_type": "code",
   "execution_count": null,
   "metadata": {},
   "outputs": [],
   "source": [
    "np.dot(new_theta, x)"
   ]
  },
  {
   "cell_type": "code",
   "execution_count": null,
   "metadata": {},
   "outputs": [],
   "source": []
  },
  {
   "cell_type": "code",
   "execution_count": null,
   "metadata": {},
   "outputs": [],
   "source": []
  },
  {
   "cell_type": "code",
   "execution_count": null,
   "metadata": {},
   "outputs": [],
   "source": []
  },
  {
   "cell_type": "code",
   "execution_count": null,
   "metadata": {},
   "outputs": [],
   "source": []
  }
 ],
 "metadata": {
  "kernelspec": {
   "display_name": "Python 3",
   "language": "python",
   "name": "python3"
  },
  "language_info": {
   "codemirror_mode": {
    "name": "ipython",
    "version": 3
   },
   "file_extension": ".py",
   "mimetype": "text/x-python",
   "name": "python",
   "nbconvert_exporter": "python",
   "pygments_lexer": "ipython3",
   "version": "3.8.5"
  }
 },
 "nbformat": 4,
 "nbformat_minor": 4
}
