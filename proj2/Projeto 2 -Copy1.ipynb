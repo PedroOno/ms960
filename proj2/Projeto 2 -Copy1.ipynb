{
 "cells": [
  {
   "cell_type": "code",
   "execution_count": 1,
   "metadata": {},
   "outputs": [],
   "source": [
    "import pandas as pd\n",
    "import numpy as np\n",
    "import random\n",
    "from tqdm.notebook import tqdm\n",
    "import matplotlib.pyplot as plt"
   ]
  },
  {
   "cell_type": "code",
   "execution_count": 2,
   "metadata": {},
   "outputs": [],
   "source": [
    "df = pd.read_csv(\"imageMNIST.csv\", header=None, low_memory=False)\n",
    "df_y = pd.read_csv(\"labelMNIST.csv\", header=None)\n",
    "\n",
    "def change_type(x):\n",
    "    if(isinstance(x, int)):\n",
    "        return float(x)\n",
    "    elif(isinstance(x, str)):\n",
    "        return float(x.replace(\",\", \".\"))\n",
    "\n",
    "df = df.applymap(change_type)"
   ]
  },
  {
   "cell_type": "code",
   "execution_count": 3,
   "metadata": {},
   "outputs": [],
   "source": [
    "#sigmoide\n",
    "def sigmoid(z):\n",
    "    g = (1 + np.exp(-z))**(-1)\n",
    "    return g"
   ]
  },
  {
   "cell_type": "code",
   "execution_count": 4,
   "metadata": {},
   "outputs": [],
   "source": [
    "def sigmoidGradient(z):\n",
    "    sigmoid = 1/(1+np.exp(-z))\n",
    "    return sigmoid*(1-sigmoid)"
   ]
  },
  {
   "cell_type": "code",
   "execution_count": 205,
   "metadata": {},
   "outputs": [],
   "source": [
    "rand_index = []\n",
    "for i in range(50):\n",
    "    rand_index.append(random.randint(0,df.shape[0]))"
   ]
  },
  {
   "cell_type": "code",
   "execution_count": 326,
   "metadata": {},
   "outputs": [],
   "source": [
    "X = df.iloc[rand_index].values\n",
    "m,n = X.shape"
   ]
  },
  {
   "cell_type": "code",
   "execution_count": 327,
   "metadata": {},
   "outputs": [],
   "source": [
    "y = df_y.iloc[rand_index].values\n",
    "df_encoded = pd.get_dummies(df_y[0], prefix='digit')"
   ]
  },
  {
   "cell_type": "code",
   "execution_count": 328,
   "metadata": {},
   "outputs": [],
   "source": [
    "X = df.values\n",
    "m,n = X.shape"
   ]
  },
  {
   "cell_type": "code",
   "execution_count": 329,
   "metadata": {},
   "outputs": [],
   "source": [
    "y = df_y.values"
   ]
  },
  {
   "cell_type": "code",
   "execution_count": 302,
   "metadata": {},
   "outputs": [],
   "source": [
    "def check_grad(X,y,theta,size_in,size_hidden,size_out, Lambda):\n",
    "    epsolon = 1e-4\n",
    "    theta1 = theta[0]\n",
    "    theta2 = theta[1]\n",
    "    \n",
    "#     theta_p1 = theta1+epsolon \n",
    "#     theta_m1 = theta1-epsolon\n",
    "    theta_p1 = np.vstack(theta1+epsolon, theta2)\n",
    "    theta_m1 = np.vstack(theta1-epsolon, theta2)\n",
    "    \n",
    "    theta_p2 = np.vstack(theta1, theta2+epsolon)\n",
    "    theta_m2 = np.vstack(theta1, theta2-epsolon)\n",
    "    \n",
    "    J_p1, grad1, grad2, reg_J_p1, grad1_reg, grad2_reg = costFunction(X,y,theta_p1,size_in,size_hidden,size_out, Lambda)\n",
    "    J_m1, grad1, grad2, reg_J_m1, grad1_reg, grad2_reg = costFunction(X,y,theta_m1,size_in,size_hidden,size_out, Lambda)\n",
    "    \n",
    "    J_p2, grad1, grad2, reg_J_p2, grad1_reg, grad2_reg = costFunction(X,y,theta_p2,size_in,size_hidden,size_out, Lambda)\n",
    "    J_m2, grad1, grad2, reg_J_m2, grad1_reg, grad2_reg = costFunction(X,y,theta_m2,size_in,size_hidden,size_out, Lambda)\n",
    "    \n",
    "    J, grad1, grad2, reg_J, grad1_reg, grad2_reg = costFunction(X,y,theta,size_in,size_hidden,size_out, Lambda)\n",
    "    \n",
    "    check_delta1 = (J_p1-J_m1) / (2*epsolon)\n",
    "    check_delta2 = (J_p2-J_m2) / (2*epsolon)\n",
    "    \n",
    "    check_delta1_reg = (reg_J_p1-reg_J_m1) / (2*epsolon)\n",
    "    check_delta2_reg = (reg_J_p2-reg_J_m2) / (2*epsolon)\n",
    "    \n",
    "    diff1 = np.abs(check_delta1 - grad1)\n",
    "    diff2 = np.abs(check_delta2 - grad2)\n",
    "    diff1_reg = np.abs(check_delta1_reg - grad1_reg)\n",
    "    diff2_reg = np.abs(check_delta2_reg - grad2_reg)\n",
    "    \n",
    "    return (diff1, diff2, diff1_reg, diff2_reg)"
   ]
  },
  {
   "cell_type": "code",
   "execution_count": 303,
   "metadata": {},
   "outputs": [],
   "source": [
    "def costFunction(X,y,theta,size_in,size_hidden,size_out, Lambda):\n",
    "    theta1 = theta[0]\n",
    "    theta2 = theta[1]\n",
    "    \n",
    "    m = X.shape[0]\n",
    "    J = 0\n",
    "    X = np.hstack((np.ones((m,1)),X))\n",
    "    y_onehot = np.zeros((m,size_out))\n",
    "    \n",
    "    a1 = sigmoid(X.dot(theta1.T))\n",
    "    a1 = np.hstack((np.ones((m,1)),a1))\n",
    "    a2 = sigmoid(a1.dot(theta2.T))\n",
    "    \n",
    "    \n",
    "    y_onehot = np.zeros((y.size, y.max()+1))\n",
    "    y_onehot[np.arange(y.size),y.flatten()] = 1\n",
    "    y_onehot = y_onehot[:,1:]\n",
    "    \n",
    "    for j in range(size_out):\n",
    "        J = J + sum(-y_onehot[:,j]*np.log(a2[:,j])-(1-y_onehot[:,j])*np.log(1-a2[:,j]))\n",
    "        \n",
    "    J = 1/m*J\n",
    "    \n",
    "    reg_J = J + Lambda/(2*m)*(np.sum(theta1[:,1:]**2)+np.sum(theta2[:,1:]**2))\n",
    "                                 \n",
    "    grad1 = np.zeros((theta1.shape))\n",
    "    grad2 = np.zeros((theta2.shape))\n",
    "                                 \n",
    "    for i in range(m):\n",
    "        xi = X[i,:]\n",
    "        a1i = a1[i,:]\n",
    "        a2i = a2[i,:]\n",
    "        d2 = a2i - y_onehot[i,:]\n",
    "        d1 = theta2.T.dot(d2.T) * sigmoidGradient(np.hstack((1,xi.dot(theta1.T))))\n",
    "        grad1 = grad1 + d1[1:][:,np.newaxis].dot(xi[:,np.newaxis].T)\n",
    "        grad2 = grad2 + d2.T[:,np.newaxis].dot(a1i[:,np.newaxis].T)\n",
    "                                 \n",
    "    grad1 = grad1/m\n",
    "    grad2 = grad2/m\n",
    "                                 \n",
    "    grad1_reg = grad1 + (Lambda/m)*np.hstack((np.zeros((theta1.shape[0],1)),theta1[:,1:]))\n",
    "    grad2_reg = grad2 + (Lambda/m)*np.hstack((np.zeros((theta2.shape[0],1)),theta2[:,1:]))\n",
    "                                 \n",
    "    return J,grad1,grad2,reg_J,grad1_reg,grad2_reg"
   ]
  },
  {
   "cell_type": "code",
   "execution_count": 304,
   "metadata": {},
   "outputs": [],
   "source": [
    "##peguei do site amigo https://prateekvishnu.medium.com/xavier-and-he-normal-he-et-al-initialization-8e3d7a087528\n",
    "def randInitializeXavier(size_in, size_out):\n",
    "    w=np.random.randn(size_out,size_in)*np.sqrt(1/size_in) \n",
    "    return w"
   ]
  },
  {
   "cell_type": "code",
   "execution_count": 313,
   "metadata": {},
   "outputs": [],
   "source": [
    "def gradientDescent(X,y,theta,alpha,nbr_iter,Lambda,input_layer_size,hidden_layer_size,num_labels):\n",
    "    theta1 = theta[0]\n",
    "    theta2 = theta[1]\n",
    "    \n",
    "    m = len(y)\n",
    "    J_history = []\n",
    "    \n",
    "    for i in tqdm(range(nbr_iter)):\n",
    "        theta = np.array([theta1, theta2], dtype=object)\n",
    "        cost,grad1,grad2,reg_J,grad1_reg,grad2_reg = costFunction(X,y,theta,input_layer_size,hidden_layer_size,num_labels,Lambda)\n",
    "        theta1 = theta1 - (alpha*grad1)\n",
    "        theta2 = theta2 - (alpha*grad2)\n",
    "        J_history.append(cost)\n",
    "        \n",
    "    nn_paramsFinal = np.array([theta1,theta2], dtype=object)\n",
    "    return nn_paramsFinal, J_history"
   ]
  },
  {
   "cell_type": "code",
   "execution_count": 314,
   "metadata": {},
   "outputs": [],
   "source": [
    "def prediction(X,theta1,theta2):\n",
    "    m = X.shape[0]\n",
    "    X = np.hstack((np.ones((m,1)),X))\n",
    "    \n",
    "    a1 = sigmoid(X.dot(theta1.T))\n",
    "    a1 = np.hstack((np.ones((m,1)),a1))\n",
    "    a2 = sigmoid(a1.dot(theta2.T))\n",
    "    \n",
    "    return np.argmax(a2,axis=1)+1"
   ]
  },
  {
   "cell_type": "code",
   "execution_count": 320,
   "metadata": {},
   "outputs": [
    {
     "data": {
      "application/vnd.jupyter.widget-view+json": {
       "model_id": "1b5f4e860e6a418896f85154113088e1",
       "version_major": 2,
       "version_minor": 0
      },
      "text/plain": [
       "HBox(children=(FloatProgress(value=0.0, max=300.0), HTML(value='')))"
      ]
     },
     "metadata": {},
     "output_type": "display_data"
    },
    {
     "name": "stdout",
     "output_type": "stream",
     "text": [
      "\n"
     ]
    }
   ],
   "source": [
    "input_layer_size = 400\n",
    "hidden_layer_size = 25\n",
    "num_labels = 10\n",
    "\n",
    "initial_theta1 = randInitializeXavier(input_layer_size+1,hidden_layer_size+1)\n",
    "initial_theta2 = randInitializeXavier(hidden_layer_size+2,num_labels)\n",
    "initial_theta = np.array([initial_theta1, initial_theta2], dtype=object)\n",
    "\n",
    "# X,y,theta,alpha,nbr_iter,Lambda,input_layer_size,hidden_layer_size,num_labels):\n",
    "\n",
    "theta,J_history = gradientDescent(X,y,initial_theta,0.01,300,1,input_layer_size,hidden_layer_size,num_labels)\n",
    "theta1 = theta[0]\n",
    "theta2 = theta[1]"
   ]
  },
  {
   "cell_type": "code",
   "execution_count": 321,
   "metadata": {},
   "outputs": [
    {
     "name": "stdout",
     "output_type": "stream",
     "text": [
      "Training Set Accuracy: 86.98 %\n"
     ]
    }
   ],
   "source": [
    "pred = prediction(X,theta1,theta2)\n",
    "print(\"Training Set Accuracy:\",sum(pred[:,np.newaxis]==y)[0]/len(y)*100,\"%\")"
   ]
  },
  {
   "cell_type": "code",
   "execution_count": 322,
   "metadata": {},
   "outputs": [
    {
     "data": {
      "image/png": "[encoded data removed]",
      "text/plain": [
       "<Figure size 432x288 with 1 Axes>"
      ]
     },
     "metadata": {
      "needs_background": "light"
     },
     "output_type": "display_data"
    }
   ],
   "source": [
    "plt.plot(J_history, label=\"cost\")\n",
    "plt.legend()\n",
    "plt.show()"
   ]
  },
  {
   "cell_type": "code",
   "execution_count": null,
   "metadata": {},
   "outputs": [],
   "source": []
  },
  {
   "cell_type": "code",
   "execution_count": null,
   "metadata": {},
   "outputs": [],
   "source": []
  },
  {
   "cell_type": "code",
   "execution_count": null,
   "metadata": {},
   "outputs": [],
   "source": []
  },
  {
   "cell_type": "code",
   "execution_count": null,
   "metadata": {},
   "outputs": [],
   "source": []
  },
  {
   "cell_type": "code",
   "execution_count": null,
   "metadata": {},
   "outputs": [],
   "source": []
  },
  {
   "cell_type": "code",
   "execution_count": null,
   "metadata": {},
   "outputs": [],
   "source": []
  },
  {
   "cell_type": "code",
   "execution_count": null,
   "metadata": {},
   "outputs": [],
   "source": []
  },
  {
   "cell_type": "code",
   "execution_count": null,
   "metadata": {},
   "outputs": [],
   "source": []
  },
  {
   "cell_type": "code",
   "execution_count": 339,
   "metadata": {
    "scrolled": true
   },
   "outputs": [
    {
     "name": "stdout",
     "output_type": "stream",
     "text": [
      "Iteration 1, loss = 1.96943613\n",
      "Iteration 2, loss = 1.09748659\n",
      "Iteration 3, loss = 0.95305751\n",
      "Iteration 4, loss = 0.92041925\n",
      "Iteration 5, loss = 0.90890610\n",
      "Iteration 6, loss = 0.90144589\n",
      "Iteration 7, loss = 0.89908494\n",
      "Iteration 8, loss = 0.89452317\n",
      "Iteration 9, loss = 0.89231384\n",
      "Iteration 10, loss = 0.88967210\n",
      "Iteration 11, loss = 0.88696859\n",
      "Iteration 12, loss = 0.88640516\n",
      "Iteration 13, loss = 0.88540775\n",
      "Iteration 14, loss = 0.88360903\n",
      "Iteration 15, loss = 0.88558081\n",
      "Iteration 16, loss = 0.88310904\n",
      "Iteration 17, loss = 0.88422866\n",
      "Iteration 18, loss = 0.88183852\n",
      "Iteration 19, loss = 0.88049820\n",
      "Iteration 20, loss = 0.88177007\n",
      "Iteration 21, loss = 0.88082275\n",
      "Iteration 22, loss = 0.87866952\n",
      "Iteration 23, loss = 0.88061218\n",
      "Iteration 24, loss = 0.87883549\n",
      "Iteration 25, loss = 0.87754959\n",
      "Iteration 26, loss = 0.87928373\n",
      "Iteration 27, loss = 0.87859331\n",
      "Iteration 28, loss = 0.87966263\n",
      "Iteration 29, loss = 0.87958360\n",
      "Iteration 30, loss = 0.87793879\n",
      "Iteration 31, loss = 0.87772723\n",
      "Iteration 32, loss = 0.87869033\n",
      "Iteration 33, loss = 0.87550016\n",
      "Iteration 34, loss = 0.87639622\n",
      "Iteration 35, loss = 0.87669465\n",
      "Iteration 36, loss = 0.87635596\n",
      "Iteration 37, loss = 0.87836282\n",
      "Iteration 38, loss = 0.87551485\n",
      "Iteration 39, loss = 0.87660155\n",
      "Iteration 40, loss = 0.87521437\n",
      "Iteration 41, loss = 0.87440200\n",
      "Iteration 42, loss = 0.87687400\n",
      "Iteration 43, loss = 0.87766480\n",
      "Iteration 44, loss = 0.87458389\n",
      "Iteration 45, loss = 0.87413225\n",
      "Iteration 46, loss = 0.87516929\n",
      "Iteration 47, loss = 0.87437568\n",
      "Iteration 48, loss = 0.87383284\n",
      "Iteration 49, loss = 0.87415163\n",
      "Iteration 50, loss = 0.87348628\n",
      "Iteration 51, loss = 0.87267411\n",
      "Iteration 52, loss = 0.87343209\n",
      "Iteration 53, loss = 0.87308508\n",
      "Iteration 54, loss = 0.87298538\n",
      "Iteration 55, loss = 0.87383221\n",
      "Iteration 56, loss = 0.87463217\n",
      "Iteration 57, loss = 0.87196394\n",
      "Iteration 58, loss = 0.87306421\n",
      "Iteration 59, loss = 0.87251298\n",
      "Iteration 60, loss = 0.87391372\n",
      "Iteration 61, loss = 0.87408099\n",
      "Iteration 62, loss = 0.87416215\n",
      "Iteration 63, loss = 0.87303025\n",
      "Iteration 64, loss = 0.87379695\n",
      "Iteration 65, loss = 0.87290525\n",
      "Iteration 66, loss = 0.87131742\n",
      "Iteration 67, loss = 0.87315356\n",
      "Iteration 68, loss = 0.87364672\n",
      "Iteration 69, loss = 0.87135029\n",
      "Iteration 70, loss = 0.87315288\n",
      "Iteration 71, loss = 0.87213109\n",
      "Iteration 72, loss = 0.87209987\n",
      "Iteration 73, loss = 0.87295355\n",
      "Iteration 74, loss = 0.87346900\n",
      "Iteration 75, loss = 0.87201143\n",
      "Iteration 76, loss = 0.87173729\n",
      "Iteration 77, loss = 0.87236014\n",
      "Training loss did not improve more than tol=0.000100 for 10 consecutive epochs. Stopping.\n",
      "12.50048828125\n"
     ]
    }
   ],
   "source": [
    "from sklearn.neural_network import MLPClassifier\n",
    "import time\n",
    "start = time.time()\n",
    "clf = MLPClassifier(solver='sgd', alpha=1, hidden_layer_sizes=(25,), random_state=1, activation='logistic', learning_rate_init=0.3, max_iter=300, verbose=True)\n",
    "clf.fit(X, y.flatten())\n",
    "end = time.time()\n",
    "passed = end-start\n",
    "print(passed)"
   ]
  },
  {
   "cell_type": "code",
   "execution_count": 340,
   "metadata": {},
   "outputs": [
    {
     "name": "stdout",
     "output_type": "stream",
     "text": [
      "Training Set Accuracy: 91.28 %\n"
     ]
    }
   ],
   "source": [
    "pred = clf.predict(X)\n",
    "print(\"Training Set Accuracy:\",sum(pred[:,np.newaxis]==y)[0]/len(y)*100,\"%\")"
   ]
  },
  {
   "cell_type": "code",
   "execution_count": null,
   "metadata": {},
   "outputs": [],
   "source": []
  },
  {
   "cell_type": "code",
   "execution_count": null,
   "metadata": {},
   "outputs": [],
   "source": []
  },
  {
   "cell_type": "code",
   "execution_count": null,
   "metadata": {},
   "outputs": [],
   "source": []
  },
  {
   "cell_type": "code",
   "execution_count": null,
   "metadata": {},
   "outputs": [],
   "source": []
  }
 ],
 "metadata": {
  "kernelspec": {
   "display_name": "Python 3",
   "language": "python",
   "name": "python3"
  },
  "language_info": {
   "codemirror_mode": {
    "name": "ipython",
    "version": 3
   },
   "file_extension": ".py",
   "mimetype": "text/x-python",
   "name": "python",
   "nbconvert_exporter": "python",
   "pygments_lexer": "ipython3",
   "version": "3.8.6"
  }
 },
 "nbformat": 4,
 "nbformat_minor": 2
}
